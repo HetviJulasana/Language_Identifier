{
  "nbformat": 4,
  "nbformat_minor": 0,
  "metadata": {
    "kernelspec": {
      "display_name": "Python 3",
      "language": "python",
      "name": "python3"
    },
    "language_info": {
      "codemirror_mode": {
        "name": "ipython",
        "version": 3
      },
      "file_extension": ".py",
      "mimetype": "text/x-python",
      "name": "python",
      "nbconvert_exporter": "python",
      "pygments_lexer": "ipython3",
      "version": "3.7.3"
    },
    "colab": {
      "name": "Language_Identification_CNN.ipynb",
      "provenance": [],
      "collapsed_sections": []
    }
  },
  "cells": [
    {
      "cell_type": "markdown",
      "metadata": {
        "id": "L0ng1XHXrU-8"
      },
      "source": [
        "  <h1><center><b> Language Identification </b></center></h1> \n",
        "  <h2><center><b> Presented By: </b></center></h2> \n",
        "  \n",
        "\n",
        "  <hr>\n",
        "\n",
        "<img src=\"https://miro.medium.com/max/2402/1*1AtFVKl2VEeQHzwoEtbdow.png\" width=\"400px\" height=\"250px\" align=\"right\">\n",
        "\n",
        "<h2> <b> 04 Aishwarya Athawale </h2>\n",
        "<h2><b> 08 Pankti Fadia </b></h2>\n",
        "<h2><b> 10 Hetvi Julasana </b></h2>\n",
        "\n",
        "\n",
        "\n",
        "\n",
        "\n",
        "\n"
      ]
    },
    {
      "cell_type": "code",
      "metadata": {
        "id": "bKkb4ppCiWcC"
      },
      "source": [
        "import random\n",
        "from collections import Counter\n",
        "import numpy as np\n",
        "\n",
        "import sklearn\n",
        "from sklearn.preprocessing import LabelEncoder\n",
        "from sklearn.model_selection import train_test_split\n",
        "from sklearn.metrics import classification_report\n",
        "\n",
        "import keras\n",
        "from keras.preprocessing.sequence import pad_sequences\n",
        "from keras.utils import to_categorical\n",
        "from keras.layers import Input, Embedding, Conv1D, MaxPool1D, Flatten, Dense\n",
        "from keras.models import Model"
      ],
      "execution_count": null,
      "outputs": []
    },
    {
      "cell_type": "code",
      "metadata": {
        "id": "oD6KZKi2iWcl",
        "colab": {
          "base_uri": "https://localhost:8080/"
        },
        "outputId": "d7e614dd-af64-46bb-a2fa-b766f4571c50"
      },
      "source": [
        "# Library versions\n",
        "print(f'keras= {keras.__version__}')\n",
        "print(f'sklearn= {sklearn.__version__}')\n",
        "print(f'numpy= {np.__version__}')"
      ],
      "execution_count": null,
      "outputs": [
        {
          "output_type": "stream",
          "text": [
            "keras= 2.4.3\n",
            "sklearn= 0.22.2.post1\n",
            "numpy= 1.18.5\n"
          ],
          "name": "stdout"
        }
      ]
    },
    {
      "cell_type": "markdown",
      "metadata": {
        "id": "-dOZus4JXEzP"
      },
      "source": [
        "# **Initialize basic configurations**"
      ]
    },
    {
      "cell_type": "code",
      "metadata": {
        "id": "hnY5jcq6iWc5"
      },
      "source": [
        "# Basic Configs\n",
        "data_dir = '/content/drive/My Drive/Colab Notebooks/data_dir'\n",
        "# Select to articles from file\n",
        "num_of_articles = 10000\n",
        "# Maximum sequence length\n",
        "sentense_len = 150\n",
        "# shingle configs\n",
        "shingles_range = (70, 100, 130)\n",
        "# how many shingles generate per line\n",
        "shingle_per_line = 10 \n",
        "# out of vocabulary token\n",
        "oov_str = 'oov'"
      ],
      "execution_count": null,
      "outputs": []
    },
    {
      "cell_type": "code",
      "metadata": {
        "id": "itvVpjL1wtJ0",
        "colab": {
          "base_uri": "https://localhost:8080/"
        },
        "outputId": "536494bd-8003-4f26-8624-3335b5ac2d00"
      },
      "source": [
        "from google.colab import drive\n",
        "drive.mount('/content/drive')"
      ],
      "execution_count": null,
      "outputs": [
        {
          "output_type": "stream",
          "text": [
            "Mounted at /content/drive\n"
          ],
          "name": "stdout"
        }
      ]
    },
    {
      "cell_type": "code",
      "metadata": {
        "id": "eFPygr6biWdF"
      },
      "source": [
        "# language code wise full name mapping\n",
        "lang_code_dict = {\n",
        "    'en':'english', 'de':'german', \n",
        "    'fr':'french', 'it':'italian', \n",
        "    'es':'spanish'\n",
        "}\n",
        "\n",
        "# language code wise data file mapping\n",
        "data_info = {\n",
        "    'en' : data_dir + '/wiki.en.text',\n",
        "    'de' : data_dir + '/wiki.de.text',\n",
        "    'fr' : data_dir + '/wiki.fr.text',\n",
        "    'it' : data_dir + '/wiki.it.text',\n",
        "    'es' : data_dir + '/wiki.es.text',\n",
        "}"
      ],
      "execution_count": null,
      "outputs": []
    },
    {
      "cell_type": "markdown",
      "metadata": {
        "id": "oPoVW5ofYCbp"
      },
      "source": [
        "# **Load Data**"
      ]
    },
    {
      "cell_type": "code",
      "metadata": {
        "id": "VbFFvoWPiWdZ",
        "colab": {
          "base_uri": "https://localhost:8080/"
        },
        "outputId": "10178b8f-8582-4c17-95d8-6d83fab70a36"
      },
      "source": [
        "for lang_code, file_path in data_info.items():\n",
        "    print(lang_code, lang_code_dict[lang_code], file_path)"
      ],
      "execution_count": null,
      "outputs": [
        {
          "output_type": "stream",
          "text": [
            "en english /content/drive/My Drive/Colab Notebooks/data_dir/wiki.en.text\n",
            "de german /content/drive/My Drive/Colab Notebooks/data_dir/wiki.de.text\n",
            "fr french /content/drive/My Drive/Colab Notebooks/data_dir/wiki.fr.text\n",
            "it italian /content/drive/My Drive/Colab Notebooks/data_dir/wiki.it.text\n",
            "es spanish /content/drive/My Drive/Colab Notebooks/data_dir/wiki.es.text\n"
          ],
          "name": "stdout"
        }
      ]
    },
    {
      "cell_type": "code",
      "metadata": {
        "id": "nUmgZL7XiWdo",
        "colab": {
          "base_uri": "https://localhost:8080/"
        },
        "outputId": "e86264cf-15e8-4e2b-cf87-39178ffcba99"
      },
      "source": [
        "# data loading\n",
        "data_dict = {}\n",
        "for lang_code, file_path in data_info.items():\n",
        "    with open(file_path, encoding='ISO-8859-1') as file:\n",
        "        lines = file.readlines()\n",
        "        lines = lines[:num_of_articles]\n",
        "        # convert to lower case\n",
        "        lines = [l.lower().strip() for l in lines]\n",
        "        data_dict[lang_code] = lines\n",
        "        print(lang_code, len(lines))"
      ],
      "execution_count": null,
      "outputs": [
        {
          "output_type": "stream",
          "text": [
            "en 70\n",
            "de 77\n",
            "fr 42\n",
            "it 53\n",
            "es 40\n"
          ],
          "name": "stdout"
        }
      ]
    },
    {
      "cell_type": "markdown",
      "metadata": {
        "id": "F0Xna_bunju2"
      },
      "source": [
        "# **Preprocessing**"
      ]
    },
    {
      "cell_type": "code",
      "metadata": {
        "id": "4o_f7bwHiWd0"
      },
      "source": [
        "def generate_shingles(line, length, total):\n",
        "    \"\"\"\n",
        "    Generate shingles from line\n",
        "    \"\"\"\n",
        "    \n",
        "    shingle_list = [] \n",
        "    max_index = len(line) - length\n",
        "    if max_index > 0:\n",
        "        for _ in range(total):\n",
        "            index = random.randint(0, max_index)\n",
        "            shingle_text = line[index:index+length]\n",
        "            shingle_list.append(shingle_text)\n",
        "    else:\n",
        "        shingle_list.append(line)\n",
        "    return shingle_list"
      ],
      "execution_count": null,
      "outputs": []
    },
    {
      "cell_type": "code",
      "metadata": {
        "id": "diHKOGtziWd6"
      },
      "source": [
        "def generate_shingles_lines(line, length, total):\n",
        "    \"\"\"\n",
        "    Generate shingles from list of lines\n",
        "    \"\"\"\n",
        "    shingle_list = []\n",
        "    for line in lines:\n",
        "        shingles = generate_shingles(line=line, length=length, total=total)\n",
        "        shingle_list.extend(shingles)\n",
        "    return shingle_list"
      ],
      "execution_count": null,
      "outputs": []
    },
    {
      "cell_type": "code",
      "metadata": {
        "id": "VQ1Ei_RMiWeB",
        "colab": {
          "base_uri": "https://localhost:8080/"
        },
        "outputId": "c9beffd1-c7db-4af8-dc0e-ac3a4eaa5737"
      },
      "source": [
        "# generate shingles\n",
        "shingle_data_dict = {}\n",
        "for lang, lines in data_dict.items():\n",
        "    shingle_list = []\n",
        "    for s_range in shingles_range:\n",
        "        shingles = generate_shingles_lines(lines, s_range, shingle_per_line)\n",
        "        shingle_list.extend(shingles)\n",
        "    shingle_data_dict[lang] = shingle_list\n",
        "    print(lang, len(shingle_list))"
      ],
      "execution_count": null,
      "outputs": [
        {
          "output_type": "stream",
          "text": [
            "en 2073\n",
            "de 2256\n",
            "fr 1260\n",
            "it 1590\n",
            "es 1200\n"
          ],
          "name": "stdout"
        }
      ]
    },
    {
      "cell_type": "code",
      "metadata": {
        "id": "o3FNx7OQiWeM",
        "colab": {
          "base_uri": "https://localhost:8080/"
        },
        "outputId": "51202394-60d8-4a68-d207-2a3bcc3938bb"
      },
      "source": [
        "# create list of lines and labels\n",
        "data_lines, labels = [], []\n",
        "for lang, samples in shingle_data_dict.items():\n",
        "    data_lines.extend(samples)\n",
        "    total_samples = len(samples)\n",
        "    labels.extend([lang] * total_samples)\n",
        "print(len(data_lines), len(labels))"
      ],
      "execution_count": null,
      "outputs": [
        {
          "output_type": "stream",
          "text": [
            "8379 8379\n"
          ],
          "name": "stdout"
        }
      ]
    },
    {
      "cell_type": "markdown",
      "metadata": {
        "id": "pO83SVdFxQfS"
      },
      "source": [
        "# **Voacabulary Preparation**"
      ]
    },
    {
      "cell_type": "code",
      "metadata": {
        "id": "7tnl8IhViWeV",
        "colab": {
          "base_uri": "https://localhost:8080/"
        },
        "outputId": "2c456164-3f40-47bf-e564-aef8763bd2c6"
      },
      "source": [
        "# create list of all characters from all data lines\n",
        "data_char_ls = []\n",
        "for line in data_lines:\n",
        "    char_ls = [c for c in line]\n",
        "    data_char_ls.append(char_ls)\n",
        "    \n",
        "# count all characters\n",
        "cunt = Counter(x for xs in data_char_ls for x in set(xs))\n",
        "\n",
        "# create vocabulary\n",
        "char_vocab = [c[0] for c in cunt.most_common(76)] + [oov_str]\n",
        "print(char_vocab)"
      ],
      "execution_count": null,
      "outputs": [
        {
          "output_type": "stream",
          "text": [
            "[' ', 'e', 'a', 'i', 'r', 't', 'n', 's', 'l', 'd', 'o', 'c', 'u', 'm', 'p', 'g', 'h', 'b', 'f', 'v', 'w', 'y', 'z', 'k', 'q', 'j', 'é', 'x', 'ü', 'ó', 'í', '?', 'è', 'ö', 'ä', 'á', 'à', 'ñ', '1', 'ò', '0', 'ß', 'ç', 'ù', '9', '5', 'â', '4', 'ú', 'ê', '2', '8', '7', 'ã', 'î', '3', '6', 'ô', 'ì', '\\x80', '\\x93', '³', '\\x9c', '¼', '¤', 'ï', 'û', '\\x9f', '¿', '¶', '°', '²', '¸', '\\x9a', '©', 'å', 'oov']\n"
          ],
          "name": "stdout"
        }
      ]
    },
    {
      "cell_type": "code",
      "metadata": {
        "id": "ohgAdxTviWed",
        "colab": {
          "base_uri": "https://localhost:8080/"
        },
        "outputId": "f0e132d6-08b8-4f30-9974-362af12a4c7b"
      },
      "source": [
        "# create dictionary for (char to index)\n",
        "# here we (index + 1) becoz, 0 index for padding\n",
        "ch2int = {c:i+1 for i, c in enumerate(char_vocab)}\n",
        "print(ch2int)\n",
        "print()\n",
        "# create dictionary for (index to char)\n",
        "int2ch = {i:c for c, i in ch2int.items()}\n",
        "print(int2ch)"
      ],
      "execution_count": null,
      "outputs": [
        {
          "output_type": "stream",
          "text": [
            "{' ': 1, 'e': 2, 'a': 3, 'i': 4, 'r': 5, 't': 6, 'n': 7, 's': 8, 'l': 9, 'd': 10, 'o': 11, 'c': 12, 'u': 13, 'm': 14, 'p': 15, 'g': 16, 'h': 17, 'b': 18, 'f': 19, 'v': 20, 'w': 21, 'y': 22, 'z': 23, 'k': 24, 'q': 25, 'j': 26, 'é': 27, 'x': 28, 'ü': 29, 'ó': 30, 'í': 31, '?': 32, 'è': 33, 'ö': 34, 'ä': 35, 'á': 36, 'à': 37, 'ñ': 38, '1': 39, 'ò': 40, '0': 41, 'ß': 42, 'ç': 43, 'ù': 44, '9': 45, '5': 46, 'â': 47, '4': 48, 'ú': 49, 'ê': 50, '2': 51, '8': 52, '7': 53, 'ã': 54, 'î': 55, '3': 56, '6': 57, 'ô': 58, 'ì': 59, '\\x80': 60, '\\x93': 61, '³': 62, '\\x9c': 63, '¼': 64, '¤': 65, 'ï': 66, 'û': 67, '\\x9f': 68, '¿': 69, '¶': 70, '°': 71, '²': 72, '¸': 73, '\\x9a': 74, '©': 75, 'å': 76, 'oov': 77}\n",
            "\n",
            "{1: ' ', 2: 'e', 3: 'a', 4: 'i', 5: 'r', 6: 't', 7: 'n', 8: 's', 9: 'l', 10: 'd', 11: 'o', 12: 'c', 13: 'u', 14: 'm', 15: 'p', 16: 'g', 17: 'h', 18: 'b', 19: 'f', 20: 'v', 21: 'w', 22: 'y', 23: 'z', 24: 'k', 25: 'q', 26: 'j', 27: 'é', 28: 'x', 29: 'ü', 30: 'ó', 31: 'í', 32: '?', 33: 'è', 34: 'ö', 35: 'ä', 36: 'á', 37: 'à', 38: 'ñ', 39: '1', 40: 'ò', 41: '0', 42: 'ß', 43: 'ç', 44: 'ù', 45: '9', 46: '5', 47: 'â', 48: '4', 49: 'ú', 50: 'ê', 51: '2', 52: '8', 53: '7', 54: 'ã', 55: 'î', 56: '3', 57: '6', 58: 'ô', 59: 'ì', 60: '\\x80', 61: '\\x93', 62: '³', 63: '\\x9c', 64: '¼', 65: '¤', 66: 'ï', 67: 'û', 68: '\\x9f', 69: '¿', 70: '¶', 71: '°', 72: '²', 73: '¸', 74: '\\x9a', 75: '©', 76: 'å', 77: 'oov'}\n"
          ],
          "name": "stdout"
        }
      ]
    },
    {
      "cell_type": "code",
      "metadata": {
        "id": "bth92VooiWem"
      },
      "source": [
        "def encode(in_ls, key):\n",
        "    \"\"\"\n",
        "    encode list of character to index of characters using 'char2int' dictionary\n",
        "    \"\"\"\n",
        "    out_ls = []\n",
        "    for ch in in_ls:\n",
        "        index = key.get(ch)\n",
        "        if index is None:\n",
        "            index = key.get(oov_str)\n",
        "        out_ls.append(index)\n",
        "    return out_ls"
      ],
      "execution_count": null,
      "outputs": []
    },
    {
      "cell_type": "code",
      "metadata": {
        "id": "Nqn6VNqqiWes",
        "colab": {
          "base_uri": "https://localhost:8080/"
        },
        "outputId": "21533722-5501-49b2-9668-f4c3825afb30"
      },
      "source": [
        "# data encoding\n",
        "encoded_ls = [encode(l, ch2int) for l in data_lines]\n",
        "print(len(encoded_ls))"
      ],
      "execution_count": null,
      "outputs": [
        {
          "output_type": "stream",
          "text": [
            "8379\n"
          ],
          "name": "stdout"
        }
      ]
    },
    {
      "cell_type": "code",
      "metadata": {
        "scrolled": true,
        "id": "dg87NbwAiWe1",
        "colab": {
          "base_uri": "https://localhost:8080/"
        },
        "outputId": "4c338171-503f-480f-eae8-99c1d0c4c5c8"
      },
      "source": [
        "# observe count 'oov' in dataset\n",
        "counts = 0\n",
        "for enc in encoded_ls:\n",
        "    if ch2int[oov_str] in enc:\n",
        "        counts += 1\n",
        "counts"
      ],
      "execution_count": null,
      "outputs": [
        {
          "output_type": "execute_result",
          "data": {
            "text/plain": [
              "33"
            ]
          },
          "metadata": {
            "tags": []
          },
          "execution_count": 43
        }
      ]
    },
    {
      "cell_type": "code",
      "metadata": {
        "id": "I65NVdSgiWe8"
      },
      "source": [
        "# padding and trucating of encoded sequence\n",
        "X = pad_sequences(encoded_ls, maxlen=sentense_len, truncating='post', padding='post')"
      ],
      "execution_count": null,
      "outputs": []
    },
    {
      "cell_type": "code",
      "metadata": {
        "id": "pnv0nOQuiWfB",
        "colab": {
          "base_uri": "https://localhost:8080/"
        },
        "outputId": "78361340-b74a-4826-f24d-99fc3298c06b"
      },
      "source": [
        "# target encoding from 'en' or 'de' language code to 0, 1 \n",
        "label_encoder = LabelEncoder()\n",
        "encoded_labels = label_encoder.fit_transform(labels)\n",
        "print(label_encoder.classes_)"
      ],
      "execution_count": null,
      "outputs": [
        {
          "output_type": "stream",
          "text": [
            "['de' 'en' 'es' 'fr' 'it']\n"
          ],
          "name": "stdout"
        }
      ]
    },
    {
      "cell_type": "code",
      "metadata": {
        "id": "onQMem9xiWfI"
      },
      "source": [
        "# one hot encoding of targets\n",
        "y = to_categorical(encoded_labels)"
      ],
      "execution_count": null,
      "outputs": []
    },
    {
      "cell_type": "code",
      "metadata": {
        "id": "bkcTTuAriWfN",
        "colab": {
          "base_uri": "https://localhost:8080/"
        },
        "outputId": "d17c01d8-c479-4736-83c5-a1373be892a6"
      },
      "source": [
        "print(X.shape, y.shape)"
      ],
      "execution_count": null,
      "outputs": [
        {
          "output_type": "stream",
          "text": [
            "(8379, 150) (8379, 5)\n"
          ],
          "name": "stdout"
        }
      ]
    },
    {
      "cell_type": "code",
      "metadata": {
        "id": "ACYhlMwLiWfX"
      },
      "source": [
        "# Train & Test split (70:30) ratio from full data\n",
        "X_train, X_test, y_train, y_test = train_test_split(X, y, test_size=0.30, random_state=42)"
      ],
      "execution_count": null,
      "outputs": []
    },
    {
      "cell_type": "code",
      "metadata": {
        "id": "7M-eyG6diWfe",
        "colab": {
          "base_uri": "https://localhost:8080/"
        },
        "outputId": "19a7db34-e0e8-4490-fff4-3d9c72b5a456"
      },
      "source": [
        "print(X_train.shape, X_test.shape, y_train.shape, y_test.shape)"
      ],
      "execution_count": null,
      "outputs": [
        {
          "output_type": "stream",
          "text": [
            "(5865, 150) (2514, 150) (5865, 5) (2514, 5)\n"
          ],
          "name": "stdout"
        }
      ]
    },
    {
      "cell_type": "markdown",
      "metadata": {
        "id": "WV3fbltRnthh"
      },
      "source": [
        "# **Model Implementation**"
      ]
    },
    {
      "cell_type": "code",
      "metadata": {
        "id": "FgG3dcwDiWfk",
        "colab": {
          "base_uri": "https://localhost:8080/"
        },
        "outputId": "c0ecdfab-47fb-449a-b50f-cfbbbdd171e3"
      },
      "source": [
        "# Build the Neural network\n",
        "inp = Input(shape=(sentense_len, ))\n",
        "#accepts multiple input\n",
        "x = Embedding(input_dim=len(char_vocab) + 1, output_dim=64)(inp)\n",
        "x = Conv1D(64, 5, activation='relu')(x)\n",
        "x = MaxPool1D(5)(x)\n",
        "x = Conv1D(64, 5, activation='relu')(x)\n",
        "x = MaxPool1D(20)(x)\n",
        "x = Flatten()(x)\n",
        "x = Dense(64, activation='relu')(x)\n",
        "x = Dense(5, activation='softmax')(x)\n",
        "model = Model(inputs=inp, outputs=x)\n",
        "model.summary()\n",
        "model.compile(optimizer='adam', loss='categorical_crossentropy', metrics=['accuracy'])"
      ],
      "execution_count": null,
      "outputs": [
        {
          "output_type": "stream",
          "text": [
            "Model: \"functional_3\"\n",
            "_________________________________________________________________\n",
            "Layer (type)                 Output Shape              Param #   \n",
            "=================================================================\n",
            "input_2 (InputLayer)         [(None, 150)]             0         \n",
            "_________________________________________________________________\n",
            "embedding_1 (Embedding)      (None, 150, 64)           4992      \n",
            "_________________________________________________________________\n",
            "conv1d_2 (Conv1D)            (None, 146, 64)           20544     \n",
            "_________________________________________________________________\n",
            "max_pooling1d_2 (MaxPooling1 (None, 29, 64)            0         \n",
            "_________________________________________________________________\n",
            "conv1d_3 (Conv1D)            (None, 25, 64)            20544     \n",
            "_________________________________________________________________\n",
            "max_pooling1d_3 (MaxPooling1 (None, 1, 64)             0         \n",
            "_________________________________________________________________\n",
            "flatten_1 (Flatten)          (None, 64)                0         \n",
            "_________________________________________________________________\n",
            "dense_2 (Dense)              (None, 64)                4160      \n",
            "_________________________________________________________________\n",
            "dense_3 (Dense)              (None, 5)                 325       \n",
            "=================================================================\n",
            "Total params: 50,565\n",
            "Trainable params: 50,565\n",
            "Non-trainable params: 0\n",
            "_________________________________________________________________\n"
          ],
          "name": "stdout"
        }
      ]
    },
    {
      "cell_type": "code",
      "metadata": {
        "id": "OHB4PQUpiWfu",
        "colab": {
          "base_uri": "https://localhost:8080/"
        },
        "outputId": "ebad28bd-a7ea-406a-b69f-a6d4414bc40e"
      },
      "source": [
        "# Train the model\n",
        "model.fit(X_train, y_train, validation_data=(X_test, y_test), batch_size=256, epochs=5)"
      ],
      "execution_count": null,
      "outputs": [
        {
          "output_type": "stream",
          "text": [
            "Epoch 1/5\n",
            "23/23 [==============================] - 4s 184ms/step - loss: 1.5525 - accuracy: 0.3115 - val_loss: 1.4919 - val_accuracy: 0.3846\n",
            "Epoch 2/5\n",
            "23/23 [==============================] - 4s 175ms/step - loss: 1.2744 - accuracy: 0.4842 - val_loss: 0.9634 - val_accuracy: 0.6384\n",
            "Epoch 3/5\n",
            "23/23 [==============================] - 4s 172ms/step - loss: 0.6933 - accuracy: 0.7558 - val_loss: 0.4789 - val_accuracy: 0.8568\n",
            "Epoch 4/5\n",
            "23/23 [==============================] - 4s 181ms/step - loss: 0.3553 - accuracy: 0.8950 - val_loss: 0.3151 - val_accuracy: 0.9021\n",
            "Epoch 5/5\n",
            "23/23 [==============================] - 4s 177ms/step - loss: 0.2182 - accuracy: 0.9434 - val_loss: 0.2051 - val_accuracy: 0.9487\n"
          ],
          "name": "stdout"
        },
        {
          "output_type": "execute_result",
          "data": {
            "text/plain": [
              "<tensorflow.python.keras.callbacks.History at 0x7f02c1dcae10>"
            ]
          },
          "metadata": {
            "tags": []
          },
          "execution_count": 52
        }
      ]
    },
    {
      "cell_type": "markdown",
      "metadata": {
        "id": "kTGZ-d0nn2SK"
      },
      "source": [
        "# **Evaluation**"
      ]
    },
    {
      "cell_type": "code",
      "metadata": {
        "id": "n2NqBbBdiWfz"
      },
      "source": [
        "# prediction on test data\n",
        "pred = model.predict(X_test)"
      ],
      "execution_count": null,
      "outputs": []
    },
    {
      "cell_type": "code",
      "metadata": {
        "id": "yo77440ViWf7"
      },
      "source": [
        "pred_y = pred.argmax(axis=1).ravel()++z\n",
        "actual_y = y_test.argmax(axis=1).ravel()"
      ],
      "execution_count": null,
      "outputs": []
    },
    {
      "cell_type": "code",
      "metadata": {
        "id": "OGBiYP68iWgA",
        "colab": {
          "base_uri": "https://localhost:8080/"
        },
        "outputId": "ff993d44-efb1-40c2-b9fc-c0b8c56bf4c2"
      },
      "source": [
        "# Generate classification report\n",
        "report = classification_report(actual_y, pred_y, target_names=label_encoder.classes_)\n",
        "print(report)"
      ],
      "execution_count": null,
      "outputs": [
        {
          "output_type": "stream",
          "text": [
            "              precision    recall  f1-score   support\n",
            "\n",
            "          de       0.97      0.97      0.97       646\n",
            "          en       0.96      0.96      0.96       645\n",
            "          es       0.96      0.92      0.94       375\n",
            "          fr       0.86      0.94      0.90       372\n",
            "          it       0.98      0.94      0.96       476\n",
            "\n",
            "    accuracy                           0.95      2514\n",
            "   macro avg       0.94      0.94      0.94      2514\n",
            "weighted avg       0.95      0.95      0.95      2514\n",
            "\n"
          ],
          "name": "stdout"
        }
      ]
    },
    {
      "cell_type": "code",
      "metadata": {
        "id": "5F5M9KUOiWgG"
      },
      "source": [
        "def predict(line):\n",
        "    \"\"\"\n",
        "    Prediction method for single line\n",
        "    \"\"\"\n",
        "    line = line.lower()\n",
        "    chars = [c for c in line]\n",
        "    encoded = encode(chars, ch2int)\n",
        "    padded = keras.preprocessing.sequence.pad_sequences([encoded], maxlen=sentense_len, truncating='post', padding='post')\n",
        "    scores = model.predict(padded)\n",
        "    max_index = scores[0].argmax()\n",
        "    lbl = label_encoder.classes_[max_index]\n",
        "    return lbl, scores[0][max_index]"
      ],
      "execution_count": null,
      "outputs": []
    },
    {
      "cell_type": "code",
      "metadata": {
        "id": "_CB6UXTriWgM",
        "colab": {
          "base_uri": "https://localhost:8080/"
        },
        "outputId": "0dbcb182-d196-49e1-b809-1d90fa4c6fa6"
      },
      "source": [
        "# sample perdiction\n",
        "print(predict('this is my sample text'))"
      ],
      "execution_count": null,
      "outputs": [
        {
          "output_type": "stream",
          "text": [
            "('en', 0.83365256)\n"
          ],
          "name": "stdout"
        }
      ]
    },
    {
      "cell_type": "code",
      "metadata": {
        "id": "lpNL9rYkiWgR"
      },
      "source": [
        "# Real time data from google news\n",
        "test_data = [\n",
        "    ('en', 'Today rural India and its villages have declared themselves'),\n",
        "    ('de', 'Es ist einer dieser Momente, bei denen man dabei gewesen sein will'),\n",
        "    ('fr', 'Mais rien ne permet pour l’instant de confirmer ces propos.'),\n",
        "    ('it', 'Il peso della compartecipazione dei cittadini (il ticket appunto) sarà cacolato'),\n",
        "    ('es', 'Después de la evaluación y las pruebas médicas, se descubrió que tenía un')\n",
        "]"
      ],
      "execution_count": null,
      "outputs": []
    },
    {
      "cell_type": "code",
      "metadata": {
        "id": "59azV10fiWgX",
        "colab": {
          "base_uri": "https://localhost:8080/"
        },
        "outputId": "d9a12cc6-32e6-43de-e53c-6df7e273721f"
      },
      "source": [
        "# predict on real time data\n",
        "for actual_lang, data in test_data:\n",
        "    print('-----------------')\n",
        "    print(f'Data:{data}')\n",
        "    print(f'Predicted:{predict(data)}, Actual:{actual_lang}')"
      ],
      "execution_count": null,
      "outputs": [
        {
          "output_type": "stream",
          "text": [
            "-----------------\n",
            "Data:Today rural India and its villages have declared themselves\n",
            "Predicted:('en', 0.5645198), Actual:en\n",
            "-----------------\n",
            "Data:Es ist einer dieser Momente, bei denen man dabei gewesen sein will\n",
            "Predicted:('de', 0.99880373), Actual:de\n",
            "-----------------\n",
            "Data:Mais rien ne permet pour l’instant de confirmer ces propos.\n",
            "Predicted:('fr', 0.9159891), Actual:fr\n",
            "-----------------\n",
            "Data:Il peso della compartecipazione dei cittadini (il ticket appunto) sarà cacolato\n",
            "Predicted:('it', 0.93701303), Actual:it\n",
            "-----------------\n",
            "Data:Después de la evaluación y las pruebas médicas, se descubrió que tenía un\n",
            "Predicted:('es', 0.88336474), Actual:es\n"
          ],
          "name": "stdout"
        }
      ]
    }
  ]
}